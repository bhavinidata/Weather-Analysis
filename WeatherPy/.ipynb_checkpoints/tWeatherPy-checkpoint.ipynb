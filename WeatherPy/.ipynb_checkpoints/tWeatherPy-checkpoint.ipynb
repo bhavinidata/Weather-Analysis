{
 "cells": [
  {
   "cell_type": "markdown",
   "metadata": {},
   "source": [
    "# WeatherPy"
   ]
  },
  {
   "cell_type": "code",
   "execution_count": 1,
   "metadata": {},
   "outputs": [
    {
     "name": "stdout",
     "output_type": "stream",
     "text": [
      "Requirement already satisfied: citipy in /Users/bhavinivyas/anaconda3/lib/python3.7/site-packages (0.0.5)\r\n",
      "Requirement already satisfied: kdtree>=0.12 in /Users/bhavinivyas/anaconda3/lib/python3.7/site-packages (from citipy) (0.16)\r\n"
     ]
    }
   ],
   "source": [
    "!pip install citipy"
   ]
  },
  {
   "cell_type": "code",
   "execution_count": 2,
   "metadata": {},
   "outputs": [],
   "source": [
    "%matplotlib notebook\n",
    "%matplotlib inline"
   ]
  },
  {
   "cell_type": "code",
   "execution_count": 3,
   "metadata": {},
   "outputs": [],
   "source": [
    "# Dependencies and Setup\n",
    "import matplotlib.pyplot as plt\n",
    "import pandas as pd\n",
    "import numpy as np\n",
    "import requests\n",
    "from pprint import pprint\n",
    "# import time\n",
    "\n",
    "# Dependencies\n",
    "import openweathermapy.core as owm\n",
    "\n",
    "# Import API key\n",
    "from config import api_key\n",
    "\n",
    "# Incorporated citipy to determine city based on latitude and longitude\n",
    "from citipy import citipy"
   ]
  },
  {
   "cell_type": "code",
   "execution_count": null,
   "metadata": {},
   "outputs": [],
   "source": [
    "# help(time)"
   ]
  },
  {
   "cell_type": "code",
   "execution_count": 5,
   "metadata": {},
   "outputs": [],
   "source": [
    "# Output File (CSV)\n",
    "output_data_file = \"output_data/cities.csv\""
   ]
  },
  {
   "cell_type": "code",
   "execution_count": 6,
   "metadata": {},
   "outputs": [],
   "source": [
    "# Range of latitudes and longitudes\n",
    "lat_range = (-90, 90)\n",
    "lng_range = (-180, 180)"
   ]
  },
  {
   "cell_type": "code",
   "execution_count": null,
   "metadata": {},
   "outputs": [],
   "source": [
    "# help(np.random.uniform)\n",
    "# Que: what is size given in np.random.uniform?\n",
    "# Que: here we are using citypy library, how can we see that it is usable? and giving proper result while choosing library? is there\n",
    "# -any ratings given ?\n",
    "# open weather api gives weather by providing lat and lng why r we not using\n",
    "# -that and looking by city name.\n",
    "# how can we verify that the output we are getting is correct.\n",
    "# if we are planning to use the API, how can we trust that it is giving true data."
   ]
  },
  {
   "cell_type": "markdown",
   "metadata": {},
   "source": [
    "## Generate cities list"
   ]
  },
  {
   "cell_type": "code",
   "execution_count": 7,
   "metadata": {},
   "outputs": [
    {
     "data": {
      "text/plain": [
       "602"
      ]
     },
     "execution_count": 7,
     "metadata": {},
     "output_type": "execute_result"
    }
   ],
   "source": [
    "# List for holding lat_lngs and cities\n",
    "cities_country = []\n",
    "latitudes = []\n",
    "longitudes = []\n",
    "cities = []\n",
    "countries = []\n",
    "\n",
    "# Create a set of random lat and lng combinations\n",
    "lats = np.random.uniform(low=-90, high=90, size=1500)\n",
    "lngs = np.random.uniform(low=-180, high=180, size=1500)\n",
    "lat_lngs = zip(lats, lngs)\n",
    "\n",
    "# Identify nearest city for each lat, lng combination\n",
    "\n",
    "for lat_lng in lat_lngs:\n",
    "    city = citipy.nearest_city(lat_lng[0], lat_lng[1])\n",
    "    cityname = city.city_name\n",
    "    countryname = city.country_code\n",
    "#    city_with_country = f\"({cityname},{countryname})\"\n",
    "    city_with_country = tuple([cityname, countryname.upper()])\n",
    "#     print(city_with_country)\n",
    "    if city_with_country not in cities_country:\n",
    "        cities_country.append(city_with_country)\n",
    "        cities.append(city_with_country[0])\n",
    "        countries.append(city_with_country[1])\n",
    "        latitudes.append(lat_lng[0])\n",
    "        longitudes.append(lat_lng[1])\n",
    "\n",
    "# Print the city count to confirm sufficient count    \n",
    "totalcities = len(cities_country)\n",
    "totalcities"
   ]
  },
  {
   "cell_type": "code",
   "execution_count": null,
   "metadata": {},
   "outputs": [],
   "source": []
  },
  {
   "cell_type": "code",
   "execution_count": null,
   "metadata": {},
   "outputs": [],
   "source": []
  },
  {
   "cell_type": "code",
   "execution_count": 8,
   "metadata": {},
   "outputs": [
    {
     "data": {
      "text/html": [
       "<div>\n",
       "<style scoped>\n",
       "    .dataframe tbody tr th:only-of-type {\n",
       "        vertical-align: middle;\n",
       "    }\n",
       "\n",
       "    .dataframe tbody tr th {\n",
       "        vertical-align: top;\n",
       "    }\n",
       "\n",
       "    .dataframe thead th {\n",
       "        text-align: right;\n",
       "    }\n",
       "</style>\n",
       "<table border=\"1\" class=\"dataframe\">\n",
       "  <thead>\n",
       "    <tr style=\"text-align: right;\">\n",
       "      <th></th>\n",
       "      <th>City</th>\n",
       "      <th>Country</th>\n",
       "      <th>Latitude</th>\n",
       "      <th>Longitudes</th>\n",
       "    </tr>\n",
       "  </thead>\n",
       "  <tbody>\n",
       "    <tr>\n",
       "      <th>0</th>\n",
       "      <td>yining</td>\n",
       "      <td>CN</td>\n",
       "      <td>43.422735</td>\n",
       "      <td>80.748942</td>\n",
       "    </tr>\n",
       "    <tr>\n",
       "      <th>1</th>\n",
       "      <td>atuona</td>\n",
       "      <td>PF</td>\n",
       "      <td>-0.046639</td>\n",
       "      <td>-135.789744</td>\n",
       "    </tr>\n",
       "    <tr>\n",
       "      <th>2</th>\n",
       "      <td>port blair</td>\n",
       "      <td>IN</td>\n",
       "      <td>15.382325</td>\n",
       "      <td>89.819791</td>\n",
       "    </tr>\n",
       "    <tr>\n",
       "      <th>3</th>\n",
       "      <td>portland</td>\n",
       "      <td>AU</td>\n",
       "      <td>-46.954230</td>\n",
       "      <td>138.876424</td>\n",
       "    </tr>\n",
       "    <tr>\n",
       "      <th>4</th>\n",
       "      <td>coihaique</td>\n",
       "      <td>CL</td>\n",
       "      <td>-46.643620</td>\n",
       "      <td>-73.054279</td>\n",
       "    </tr>\n",
       "  </tbody>\n",
       "</table>\n",
       "</div>"
      ],
      "text/plain": [
       "         City Country   Latitude  Longitudes\n",
       "0      yining      CN  43.422735   80.748942\n",
       "1      atuona      PF  -0.046639 -135.789744\n",
       "2  port blair      IN  15.382325   89.819791\n",
       "3    portland      AU -46.954230  138.876424\n",
       "4   coihaique      CL -46.643620  -73.054279"
      ]
     },
     "execution_count": 8,
     "metadata": {},
     "output_type": "execute_result"
    }
   ],
   "source": [
    "# city_data = pd.DataFrame([np.array(cities), np.array(countries), np.array(latitudes).astype(float), np.array(longitudes).astype(float)])\n",
    "# city_data\n",
    "dict = {\"City\": cities, \"Country\": countries, \"Latitude\":latitudes, \"Longitudes\": longitudes}\n",
    "city_data = pd.DataFrame(dict)\n",
    "city_data.head()"
   ]
  },
  {
   "cell_type": "code",
   "execution_count": null,
   "metadata": {},
   "outputs": [],
   "source": [
    "# city_data.loc[city_data[\"Country\"] == \"us\"]"
   ]
  },
  {
   "cell_type": "code",
   "execution_count": 9,
   "metadata": {},
   "outputs": [
    {
     "data": {
      "text/html": [
       "<div>\n",
       "<style scoped>\n",
       "    .dataframe tbody tr th:only-of-type {\n",
       "        vertical-align: middle;\n",
       "    }\n",
       "\n",
       "    .dataframe tbody tr th {\n",
       "        vertical-align: top;\n",
       "    }\n",
       "\n",
       "    .dataframe thead th {\n",
       "        text-align: right;\n",
       "    }\n",
       "</style>\n",
       "<table border=\"1\" class=\"dataframe\">\n",
       "  <thead>\n",
       "    <tr style=\"text-align: right;\">\n",
       "      <th></th>\n",
       "      <th>City</th>\n",
       "      <th>Country</th>\n",
       "      <th>Latitude</th>\n",
       "      <th>Longitudes</th>\n",
       "      <th>Max_Temprature(F)</th>\n",
       "      <th>Humidity(%)</th>\n",
       "      <th>Windspeed(MPH)</th>\n",
       "      <th>Cloudiness(%)</th>\n",
       "      <th>Date</th>\n",
       "    </tr>\n",
       "  </thead>\n",
       "  <tbody>\n",
       "    <tr>\n",
       "      <th>0</th>\n",
       "      <td>yining</td>\n",
       "      <td>CN</td>\n",
       "      <td>43.422735</td>\n",
       "      <td>80.748942</td>\n",
       "      <td>NaN</td>\n",
       "      <td>NaN</td>\n",
       "      <td>NaN</td>\n",
       "      <td>NaN</td>\n",
       "      <td>NaN</td>\n",
       "    </tr>\n",
       "    <tr>\n",
       "      <th>1</th>\n",
       "      <td>atuona</td>\n",
       "      <td>PF</td>\n",
       "      <td>-0.046639</td>\n",
       "      <td>-135.789744</td>\n",
       "      <td>NaN</td>\n",
       "      <td>NaN</td>\n",
       "      <td>NaN</td>\n",
       "      <td>NaN</td>\n",
       "      <td>NaN</td>\n",
       "    </tr>\n",
       "    <tr>\n",
       "      <th>2</th>\n",
       "      <td>port blair</td>\n",
       "      <td>IN</td>\n",
       "      <td>15.382325</td>\n",
       "      <td>89.819791</td>\n",
       "      <td>NaN</td>\n",
       "      <td>NaN</td>\n",
       "      <td>NaN</td>\n",
       "      <td>NaN</td>\n",
       "      <td>NaN</td>\n",
       "    </tr>\n",
       "    <tr>\n",
       "      <th>3</th>\n",
       "      <td>portland</td>\n",
       "      <td>AU</td>\n",
       "      <td>-46.954230</td>\n",
       "      <td>138.876424</td>\n",
       "      <td>NaN</td>\n",
       "      <td>NaN</td>\n",
       "      <td>NaN</td>\n",
       "      <td>NaN</td>\n",
       "      <td>NaN</td>\n",
       "    </tr>\n",
       "    <tr>\n",
       "      <th>4</th>\n",
       "      <td>coihaique</td>\n",
       "      <td>CL</td>\n",
       "      <td>-46.643620</td>\n",
       "      <td>-73.054279</td>\n",
       "      <td>NaN</td>\n",
       "      <td>NaN</td>\n",
       "      <td>NaN</td>\n",
       "      <td>NaN</td>\n",
       "      <td>NaN</td>\n",
       "    </tr>\n",
       "  </tbody>\n",
       "</table>\n",
       "</div>"
      ],
      "text/plain": [
       "         City Country   Latitude  Longitudes  Max_Temprature(F)  Humidity(%)  \\\n",
       "0      yining      CN  43.422735   80.748942                NaN          NaN   \n",
       "1      atuona      PF  -0.046639 -135.789744                NaN          NaN   \n",
       "2  port blair      IN  15.382325   89.819791                NaN          NaN   \n",
       "3    portland      AU -46.954230  138.876424                NaN          NaN   \n",
       "4   coihaique      CL -46.643620  -73.054279                NaN          NaN   \n",
       "\n",
       "   Windspeed(MPH)  Cloudiness(%)  Date  \n",
       "0             NaN            NaN   NaN  \n",
       "1             NaN            NaN   NaN  \n",
       "2             NaN            NaN   NaN  \n",
       "3             NaN            NaN   NaN  \n",
       "4             NaN            NaN   NaN  "
      ]
     },
     "execution_count": 9,
     "metadata": {},
     "output_type": "execute_result"
    }
   ],
   "source": [
    "city_data[\"Max_Temprature(F)\"]  = np.nan\n",
    "city_data[\"Humidity(%)\"]  = np.nan\n",
    "city_data[\"Windspeed(MPH)\"]  = np.nan\n",
    "city_data[\"Cloudiness(%)\"]  = np.nan\n",
    "city_data[\"Date\"] = np.nan\n",
    "city_data.head()"
   ]
  },
  {
   "cell_type": "markdown",
   "metadata": {},
   "source": [
    "## Perform API calls"
   ]
  },
  {
   "cell_type": "code",
   "execution_count": 10,
   "metadata": {},
   "outputs": [
    {
     "name": "stdout",
     "output_type": "stream",
     "text": [
      "yining\n"
     ]
    },
    {
     "ename": "AttributeError",
     "evalue": "'tuple' object has no attribute 'get_current'",
     "output_type": "error",
     "traceback": [
      "\u001b[0;31m---------------------------------------------------------------------------\u001b[0m",
      "\u001b[0;31mAttributeError\u001b[0m                            Traceback (most recent call last)",
      "\u001b[0;32m<ipython-input-10-e2d060642853>\u001b[0m in \u001b[0;36m<module>\u001b[0;34m\u001b[0m\n\u001b[1;32m     19\u001b[0m     \u001b[0mweather_data\u001b[0m \u001b[0;34m=\u001b[0m \u001b[0mresponse\u001b[0m\u001b[0;34m(\u001b[0m\u001b[0;34m*\u001b[0m\u001b[0msummary\u001b[0m\u001b[0;34m)\u001b[0m\u001b[0;34m\u001b[0m\u001b[0;34m\u001b[0m\u001b[0m\n\u001b[1;32m     20\u001b[0m \u001b[0;31m#         print(weather_data[0])\u001b[0m\u001b[0;34m\u001b[0m\u001b[0;34m\u001b[0m\u001b[0;34m\u001b[0m\u001b[0m\n\u001b[0;32m---> 21\u001b[0;31m     \u001b[0mcity_data\u001b[0m\u001b[0;34m.\u001b[0m\u001b[0mloc\u001b[0m\u001b[0;34m[\u001b[0m\u001b[0mindex\u001b[0m\u001b[0;34m,\u001b[0m \u001b[0;34m\"Max_Temprature(F)\"\u001b[0m\u001b[0;34m]\u001b[0m \u001b[0;34m=\u001b[0m \u001b[0mweather_data\u001b[0m\u001b[0;34m.\u001b[0m\u001b[0mget_current\u001b[0m\u001b[0;34m(\u001b[0m\u001b[0;34m\"main.temp_max\"\u001b[0m\u001b[0;34m,\u001b[0m \u001b[0mnp\u001b[0m\u001b[0;34m.\u001b[0m\u001b[0mnan\u001b[0m\u001b[0;34m)\u001b[0m\u001b[0;34m\u001b[0m\u001b[0;34m\u001b[0m\u001b[0m\n\u001b[0m\u001b[1;32m     22\u001b[0m     \u001b[0mcity_data\u001b[0m\u001b[0;34m.\u001b[0m\u001b[0mloc\u001b[0m\u001b[0;34m[\u001b[0m\u001b[0mindex\u001b[0m\u001b[0;34m,\u001b[0m \u001b[0;34m\"Humidity(%)\"\u001b[0m\u001b[0;34m]\u001b[0m \u001b[0;34m=\u001b[0m \u001b[0mweather_data\u001b[0m\u001b[0;34m.\u001b[0m\u001b[0mget\u001b[0m\u001b[0;34m(\u001b[0m\u001b[0;34m\"main.humidity\"\u001b[0m\u001b[0;34m,\u001b[0m \u001b[0mnp\u001b[0m\u001b[0;34m.\u001b[0m\u001b[0mnan\u001b[0m\u001b[0;34m)\u001b[0m\u001b[0;34m\u001b[0m\u001b[0;34m\u001b[0m\u001b[0m\n\u001b[1;32m     23\u001b[0m     \u001b[0mcity_data\u001b[0m\u001b[0;34m.\u001b[0m\u001b[0mloc\u001b[0m\u001b[0;34m[\u001b[0m\u001b[0mindex\u001b[0m\u001b[0;34m,\u001b[0m \u001b[0;34m\"Windspeed(MPH)\"\u001b[0m\u001b[0;34m]\u001b[0m \u001b[0;34m=\u001b[0m \u001b[0mweather_data\u001b[0m\u001b[0;34m.\u001b[0m\u001b[0mget\u001b[0m\u001b[0;34m(\u001b[0m\u001b[0;34m\"wind.speed\"\u001b[0m\u001b[0;34m,\u001b[0m \u001b[0mnp\u001b[0m\u001b[0;34m.\u001b[0m\u001b[0mnan\u001b[0m\u001b[0;34m)\u001b[0m\u001b[0;34m\u001b[0m\u001b[0;34m\u001b[0m\u001b[0m\n",
      "\u001b[0;31mAttributeError\u001b[0m: 'tuple' object has no attribute 'get_current'"
     ]
    }
   ],
   "source": [
    "# Using wrapper\n",
    "# Create settings dictionary with information we're interested in\n",
    "settings = {\"units\": \"imperial\", \"appid\": api_key}\n",
    "# Get current weather\n",
    "# current_weather_paris = owm.get_current(\"Paris\", **settings)\n",
    "# print(f\"Current weather object for Paris: {current_weather_paris}.\")\n",
    "city_number = 1\n",
    "for index, row in city_data.iterrows():\n",
    "    currentcity = row[\"City\"]\n",
    "    print(currentcity)\n",
    "# #    response = requests.get(base_url, params=params)\n",
    "# #    weather_data = response.json()\n",
    "\n",
    "    try:\n",
    "        response = owm.get_current(currentcity, **settings)\n",
    "#         pretty print for json\n",
    "#         pprint(response)\n",
    "        \n",
    "        summary = [\"main.temp_max\", \"main.humidity\", \"wind.speed\", \"clouds.all\", \"dt\"]\n",
    "        weather_data = response(*summary)\n",
    "#         print(weather_data[0])\n",
    "        city_data.loc[index, \"Max_Temprature(F)\"] = weather_data[0]\n",
    "        city_data.loc[index, \"Humidity(%)\"] = weather_data[1]\n",
    "        city_data.loc[index, \"Windspeed(MPH)\"] = weather_data[2]\n",
    "        city_data.loc[index, \"Cloudiness(%)\"] = weather_data[3]\n",
    "        city_data.loc[index, \"Date\"] = weather_data[4]\n",
    "        \n",
    "        print(f\"Processing record {city_number} of {totalcities}: {currentcity}\")\n",
    "        city_number+=1\n",
    "    except:\n",
    "        print(\"Missing city.. just skipping..\")     \n",
    "\n",
    "\n",
    "\n",
    "# # Other way of doing and not using try except. try except slow downs the performance\n",
    "#     if (len(results)==0):\n",
    "#         print(\"No results\")\n",
    "#     else:\n",
    "#         name = results[0].get('name', \"Missing Name\")\n",
    "#         print(f\"Closest {restr_type} restaurant is {name}.\")\n",
    "\n",
    "#         types_df.loc[index, 'name'] = results[0].get('name', np.nan)\n",
    "#         types_df.loc[index, 'address'] = results[0].get('vicinity', np.nan)\n",
    "#         types_df.loc[index, 'price_level'] = results[0].get('price_level', np.nan)\n",
    "#         types_df.loc[index, 'rating'] = results[0].get('rating', np.nan)\n",
    "\n",
    "\n"
   ]
  },
  {
   "cell_type": "code",
   "execution_count": null,
   "metadata": {},
   "outputs": [],
   "source": [
    "# # https://openweathermap.org/current\n",
    "# # api.openweathermap.org/data/2.5/weather?lat=35&lon=139\n",
    "# base_url = \"http://api.openweathermap.org/data/2.5/weather?\"\n",
    "# params = {\n",
    "#     \"appid\" : api_key,\n",
    "#     \"units\" : \"imperial\"\n",
    "# }\n",
    "# city_number = 1\n",
    "# for index, row in city_data.iterrows():\n",
    "#     currentcity = row[\"City\"]\n",
    "#     params[\"q\"] = currentcity\n",
    "#     response = requests.get(base_url, params=params)\n",
    "#     weather_data = response.json()\n",
    "#     try:\n",
    "#         city_data.loc[index, \"Max_Temprature(F)\"] = weather_data[\"main\"][\"temp_max\"]\n",
    "#         city_data.loc[index, \"Humidity(%)\"] = weather_data[\"main\"][\"humidity\"]\n",
    "#         city_data.loc[index, \"Windspeed(MPH)\"] = weather_data[\"wind\"][\"speed\"]\n",
    "#         city_data.loc[index, \"Cloudiness(%)\"] = weather_data[\"clouds\"][\"all\"]\n",
    "#         city_data.loc[index, \"Date\"] = weather_data[\"dt\"]\n",
    "#         print(f\"Processing record {city_number} of {totalcities}: {currentcity}\")\n",
    "#         city_number+=1\n",
    "#     except (KeyError, IndexError):\n",
    "#         print(\"Missing city.. just skipping..\")       "
   ]
  },
  {
   "cell_type": "code",
   "execution_count": null,
   "metadata": {},
   "outputs": [],
   "source": [
    "city_data.count()"
   ]
  },
  {
   "cell_type": "code",
   "execution_count": null,
   "metadata": {},
   "outputs": [],
   "source": [
    "city_data = city_data.dropna(how=\"any\")\n",
    "city_data.head()\n",
    "city_data.count()"
   ]
  },
  {
   "cell_type": "code",
   "execution_count": null,
   "metadata": {},
   "outputs": [],
   "source": [
    "city_data[\"Latitude\"] = city_data[\"Latitude\"].apply(\"{:.2f}\".format)\n",
    "# city_data[\"Latitude\"] = pd.to_numeric(city_data[\"Latitude\"])\n",
    "city_data[\"Longitudes\"] = city_data[\"Longitudes\"].apply(\"{:.2f}\".format)\n",
    "city_data[\"Max_Temprature(F)\"] = city_data[\"Max_Temprature(F)\"].apply(\"{:.2f}\".format)\n",
    "city_data[\"Windspeed(MPH)\"] = city_data[\"Windspeed(MPH)\"].apply(\"{:.2f}\".format)\n",
    "city_data[\"Cloudiness(%)\"] = (city_data[\"Cloudiness(%)\"]).astype(int)\n",
    "city_data[\"Humidity(%)\"] = (city_data[\"Humidity(%)\"]).astype(int)\n",
    "city_data[\"Date\"] = pd.to_datetime(city_data[\"Date\"], unit = \"s\")\n",
    "city_data[\"Date\"] = city_data[\"Date\"].dt.date\n",
    "# save the data to csv file\n",
    "city_data.to_csv(output_data_file, index=False)\n",
    "city_data.head()"
   ]
  },
  {
   "cell_type": "code",
   "execution_count": null,
   "metadata": {},
   "outputs": [],
   "source": [
    "today_date = pd.to_datetime('today').date().strftime('%m/%d/%y')\n",
    "city_data[\"Latitude\"] = pd.to_numeric(city_data[\"Latitude\"])\n",
    "city_data[\"Max_Temprature(F)\"] = pd.to_numeric(city_data[\"Max_Temprature(F)\"])\n",
    "city_data[\"Windspeed(MPH)\"] = pd.to_numeric(city_data[\"Windspeed(MPH)\"])"
   ]
  },
  {
   "cell_type": "code",
   "execution_count": null,
   "metadata": {},
   "outputs": [],
   "source": [
    "city_data.plot.scatter(x=\"Latitude\", y=\"Max_Temprature(F)\", xlim = (-62, 85), ylim= (10, 103), s= 50, grid = True, edgecolor = \"black\", figsize=(6,4), title= f\"City Latitude Vs Max Temperature ({today_date})\")\n",
    "# plt.xlim(-62, 85)\n",
    "# plt.ylim(10, 103)\n",
    "# plt.grid()\n",
    "plt.savefig(\"Images/LatitudeVsMaxTemp.png\")\n",
    "plt.show()"
   ]
  },
  {
   "cell_type": "code",
   "execution_count": null,
   "metadata": {},
   "outputs": [],
   "source": [
    "city_data.plot.scatter(x=\"Latitude\", y=\"Humidity(%)\", xlim = (-90, 90), ylim= (10, 103), s= 50, grid = True, edgecolor = \"black\", figsize=(6,4), title = f\"City Latitude Vs Humidity ({today_date})\")\n",
    "# plt.xlim(-62, 85)\n",
    "# plt.ylim(10, 103)\n",
    "plt.savefig(\"Images/Humidity.png\")\n",
    "plt.show()\n"
   ]
  },
  {
   "cell_type": "code",
   "execution_count": null,
   "metadata": {},
   "outputs": [],
   "source": [
    "city_data.plot.scatter(x=\"Latitude\", y=\"Cloudiness(%)\", xlim = (-62, 85), ylim= (-5, 105),s= 40, figsize=(6,4), edgecolor = \"black\", grid = True, title = f\"City Latitude Vs Cloudiness ({today_date})\")\n",
    "# plt.xlim(-62, 85)\n",
    "# plt.ylim(-5, 103)\n",
    "# plt.xlabel(\"Latitude\")\n",
    "# plt.ylabel()\n",
    "# plt.grid()\n",
    "plt.savefig(\"Images/Cloudiness.png\")\n",
    "plt.show()"
   ]
  },
  {
   "cell_type": "code",
   "execution_count": null,
   "metadata": {},
   "outputs": [],
   "source": [
    "city_data.plot.scatter(x=\"Latitude\", y=\"Windspeed(MPH)\", xlim = (-90, 90), ylim= (-1, 34), s= 40, figsize=(6,4), edgecolor = \"black\", grid = True, title = f\"City Latitude Vs Wind Speed ({today_date})\")\n",
    "# plt.xlim(-62, 85)\n",
    "# plt.ylim(-1, 34)\n",
    "# plt.xlabel(\"Latitude\")\n",
    "# plt.grid()\n",
    "plt.savefig(\"Images/LatitudeVsWindspeed.png\")\n",
    "plt.show()\n"
   ]
  },
  {
   "cell_type": "code",
   "execution_count": null,
   "metadata": {},
   "outputs": [],
   "source": [
    "# !open output_data/cities.csv"
   ]
  },
  {
   "cell_type": "markdown",
   "metadata": {},
   "source": [
    "## Observation\n",
    "* Temperature is more near the equator, as we go far from equator, temprature decreases.\n",
    "* Humidity is more in north side of equator.\n",
    "* Windspeed is more in north side of equator.\n",
    "* There is no relation between Coudiness and Latitude\n"
   ]
  },
  {
   "cell_type": "code",
   "execution_count": null,
   "metadata": {},
   "outputs": [],
   "source": []
  }
 ],
 "metadata": {
  "kernelspec": {
   "display_name": "Conda [PythonData]",
   "language": "python",
   "name": "pythondata"
  },
  "language_info": {
   "codemirror_mode": {
    "name": "ipython",
    "version": 3
   },
   "file_extension": ".py",
   "mimetype": "text/x-python",
   "name": "python",
   "nbconvert_exporter": "python",
   "pygments_lexer": "ipython3",
   "version": "3.7.3"
  }
 },
 "nbformat": 4,
 "nbformat_minor": 2
}
